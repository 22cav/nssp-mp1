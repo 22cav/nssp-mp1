{
 "cells": [
  {
   "cell_type": "code",
   "execution_count": null,
   "id": "d267db19-0122-4c32-8a45-0d38c80a53b7",
   "metadata": {},
   "outputs": [],
   "source": [
    "import os\n",
    "os.getcwd()"
   ]
  },
  {
   "cell_type": "code",
   "execution_count": 1,
   "id": "9cab022b-f41e-4998-be64-cb37ac7780df",
   "metadata": {},
   "outputs": [],
   "source": [
    "import sys\n",
    "import os\n",
    "\n",
    "#####################\n",
    "# Import of utils.py functions\n",
    "#####################\n",
    "root_dir = os.getcwd()\n",
    "sys.path.append('.')\n",
    "from utils import loadFSL, FSLeyesServer\n",
    "\n",
    "####################\n",
    "# DIPY_HOME should be set prior to import of dipy to make sure all downloads point to the right folder\n",
    "####################\n",
    "\n",
    "# ???\n",
    "# os.environ[\"DIPY_HOME\"] = \"/home/jovyan/Data\"\n",
    "\n",
    "#############################\n",
    "# Loading fsl and freesurfer within Neurodesk\n",
    "# You can find the list of available other modules by clicking on the \"Softwares\" tab on the left\n",
    "#############################\n",
    "import lmod\n",
    "await lmod.purge(force=True)\n",
    "await lmod.load('fsl/6.0.7.4')\n",
    "await lmod.load('freesurfer/7.4.1')\n",
    "await lmod.list()\n",
    "\n",
    "####################\n",
    "# Setup FSL path\n",
    "####################\n",
    "loadFSL()\n",
    "\n",
    "###################\n",
    "# Load all relevant libraries\n",
    "##################\n",
    "import fsl.wrappers\n",
    "from fsl.wrappers import fslmaths, flirt, fast, bet, mcflirt, epi_reg, fslroi\n",
    "from fsl.wrappers.misc import fslroi\n",
    "import mne_nirs\n",
    "import nilearn\n",
    "from nilearn.datasets import fetch_development_fmri\n",
    "import mne\n",
    "import mne_nirs\n",
    "import dipy\n",
    "from dipy.data import fetch_bundles_2_subjects, read_bundles_2_subjects\n",
    "import xml.etree.ElementTree as ET\n",
    "import os.path as op\n",
    "import nibabel as nib\n",
    "import glob\n",
    "\n",
    "import ants\n",
    "\n",
    "import openneuro\n",
    "from mne.datasets import sample\n",
    "from mne_bids import BIDSPath, read_raw_bids, print_dir_tree, make_report\n",
    "\n",
    "import pandas as pd\n",
    "import numpy as np\n",
    "import json\n",
    "import subprocess"
   ]
  },
  {
   "cell_type": "code",
   "execution_count": 2,
   "id": "2bb92300-b457-4f4a-b451-dd3120e61774",
   "metadata": {},
   "outputs": [
    {
     "data": {
      "text/plain": [
       "0"
      ]
     },
     "execution_count": 2,
     "metadata": {},
     "output_type": "execute_result"
    }
   ],
   "source": [
    "# Cleanup previously defined data\n",
    "os.system(\"rm -rf dataset/derivatives\")"
   ]
  },
  {
   "cell_type": "code",
   "execution_count": 2,
   "id": "3e418cca-aa8c-4894-b2d0-fbb4a95bdf21",
   "metadata": {},
   "outputs": [
    {
     "name": "stderr",
     "output_type": "stream",
     "text": [
      "Gtk-Message: 23:15:57.030: Failed to load module \"canberra-gtk-module\"\n"
     ]
    }
   ],
   "source": [
    "%gui wx"
   ]
  },
  {
   "cell_type": "code",
   "execution_count": 3,
   "id": "3f3943d5-94d9-40e4-b0f7-ab0aa6168517",
   "metadata": {},
   "outputs": [
    {
     "name": "stderr",
     "output_type": "stream",
     "text": [
      "23:16:00: Debug: Adding duplicate image handler for 'Windows bitmap file'\n",
      "23:16:00: Debug: Adding duplicate animation handler for '1' type\n",
      "23:16:00: Debug: Adding duplicate animation handler for '2' type\n",
      "23:16:00: Debug: Adding duplicate image handler for 'Windows bitmap file'\n",
      "23:16:00: Debug: Adding duplicate animation handler for '1' type\n",
      "23:16:00: Debug: Adding duplicate animation handler for '2' type\n",
      "\n",
      "(ipykernel_launcher.py:973): Gtk-CRITICAL **: 23:16:01.090: gtk_window_resize: assertion 'height > 0' failed\n"
     ]
    }
   ],
   "source": [
    "fsleyesDisplay = FSLeyesServer()\n",
    "fsleyesDisplay.show()"
   ]
  },
  {
   "cell_type": "markdown",
   "id": "c48e5c8e",
   "metadata": {},
   "source": [
    "# Part 1: Preprocessing"
   ]
  },
  {
   "cell_type": "code",
   "execution_count": 4,
   "id": "3658ada5-0ce1-414c-9dc1-fc2e184ac156",
   "metadata": {},
   "outputs": [],
   "source": [
    "# Creating derivative root and saving some useful paths\n",
    "subject = \"subject101410\"\n",
    "\n",
    "bids_root = op.join(root_dir, \"dataset\")\n",
    "subject_root = op.join(bids_root, subject)\n",
    "\n",
    "derivatives_root = op.join(bids_root, \"derivatives\")\n",
    "os.makedirs(derivatives_root, exist_ok=True)\n",
    "preproc_root = op.join(derivatives_root, \"preprocessed_data\")\n",
    "os.makedirs(preproc_root, exist_ok=True)\n",
    "subject_preproc_root = op.join(preproc_root, subject)\n",
    "os.makedirs(subject_preproc_root, exist_ok=True)\n",
    "\n",
    "anat_path = op.join(subject_root, \"T1w\", \"T1w.nii.gz\")"
   ]
  },
  {
   "cell_type": "code",
   "execution_count": 5,
   "id": "a0e63fb6-1fdb-46b9-968f-33babc37194d",
   "metadata": {},
   "outputs": [
    {
     "name": "stderr",
     "output_type": "stream",
     "text": [
      "\n",
      "(ipykernel_launcher.py:426): Gdk-WARNING **: 22:14:48.553: gdkdrawable-x11.c:952 drawable is not a pixmap or window\n"
     ]
    }
   ],
   "source": [
    "fsleyesDisplay.resetOverlays()\n",
    "fsleyesDisplay.load(anat_path)"
   ]
  },
  {
   "cell_type": "markdown",
   "id": "86c1636c",
   "metadata": {},
   "source": [
    "## Skull stripping"
   ]
  },
  {
   "cell_type": "code",
   "execution_count": null,
   "id": "5d1b01e0-9d8c-41b2-8954-b131d494ed21",
   "metadata": {},
   "outputs": [],
   "source": [
    "# To display the commands and how to use the \"bet\" command\n",
    "os.system(\"bet -h\")"
   ]
  },
  {
   "cell_type": "code",
   "execution_count": 6,
   "id": "61b33f7e-e5c9-419e-9253-84f07d1115a7",
   "metadata": {},
   "outputs": [
    {
     "name": "stdout",
     "output_type": "stream",
     "text": [
      "Skull stripping with BET succeeded!\n"
     ]
    }
   ],
   "source": [
    "# Skull stripping with \"bet\"\n",
    "robust: bool = True\n",
    "\n",
    "# Define the path where to save the file\n",
    "os.makedirs(op.join(subject_preproc_root, \"T1w\"), exist_ok=True)\n",
    "betted_brain_path = op.join(subject_preproc_root, \"T1w\", \"T1w_skull.nii.gz\")\n",
    "\n",
    "# Apply \"bet\" and save the file\n",
    "robust_text = \"-R\" if robust else \"\"\n",
    "os.system(f\"bet {anat_path} {betted_brain_path} -m {robust_text}\")\n",
    "\n",
    "# BET also creates a resulting Mask that is useful to display\n",
    "resulting_mask = op.join(subject_preproc_root, \"T1w\", \"T1w_skull_mask.nii.gz\")\n",
    "\n",
    "print(\"Skull stripping with BET succeeded!\")"
   ]
  },
  {
   "cell_type": "code",
   "execution_count": null,
   "id": "0095c3f9-93eb-41ca-b751-733bbc17d3b4",
   "metadata": {},
   "outputs": [],
   "source": [
    "# Display the Skull Stripped Image\n",
    "fsleyesDisplay.load(resulting_mask)"
   ]
  },
  {
   "cell_type": "code",
   "execution_count": 7,
   "id": "651ba121-dfac-4f48-b96b-63ebc06d09e3",
   "metadata": {},
   "outputs": [],
   "source": [
    "# Now we have to apply the mask to the image\n",
    "def apply_fsl_math_approach(img_path, mask_path, masked_img_path):\n",
    "    os.system(f'fslmaths {img_path} -mas {mask_path} {masked_img_path}')\n",
    "\n",
    "apply_fsl_math_approach(anat_path, resulting_mask, betted_brain_path)"
   ]
  },
  {
   "cell_type": "code",
   "execution_count": 28,
   "id": "0441cde1-82e5-4177-a3ea-46467e68233d",
   "metadata": {},
   "outputs": [],
   "source": [
    "# Comparison between T1 and skull stripped\n",
    "fsleyesDisplay.resetOverlays()\n",
    "fsleyesDisplay.load(anat_path)\n",
    "fsleyesDisplay.load(betted_brain_path)"
   ]
  },
  {
   "cell_type": "markdown",
   "id": "8ead753e",
   "metadata": {},
   "source": [
    "## Tissue segmentation"
   ]
  },
  {
   "cell_type": "code",
   "execution_count": null,
   "id": "573d8cdf-823c-4af3-b212-2694fe6bb0be",
   "metadata": {},
   "outputs": [],
   "source": [
    "os.system(\"fast -h\")"
   ]
  },
  {
   "cell_type": "code",
   "execution_count": null,
   "id": "8186a222-6d55-4545-a494-a3f12fa14991",
   "metadata": {},
   "outputs": [],
   "source": [
    "# tissue segmentation\n",
    "import time\n",
    "\n",
    "start = time.time()\n",
    "fast_output_path = op.join(subject_preproc_root, \"T1w\", \"T1w_fasted\")\n",
    "fast_target = betted_brain_path \n",
    "\n",
    "# Quick cleanup\n",
    "[os.remove(f) for f in glob.glob(op.join(subject_preproc_root, \"T1w\", '*fast*'))]\n",
    "\n",
    "fast(imgs=[fast_target], out=fast_output_path, n_classes=3)\n",
    "finish = time.time()\n",
    "print(f\"Segmentation succeded in {finish-start} seconds\")"
   ]
  },
  {
   "cell_type": "code",
   "execution_count": null,
   "id": "3d26b917-f50d-4298-9107-b5b4cdbf0703",
   "metadata": {},
   "outputs": [],
   "source": [
    "print_dir_tree(preproc_root, max_depth=3)"
   ]
  },
  {
   "cell_type": "code",
   "execution_count": null,
   "id": "58c23497-fac5-43de-b328-959c71ce671f",
   "metadata": {},
   "outputs": [],
   "source": [
    "fsleyesDisplay.resetOverlays()\n",
    "fsleyesDisplay.load(betted_brain_path)\n",
    "fsleyesDisplay.load(glob.glob(op.join(subject_preproc_root, 'T1w','*pve_0*'))[0])\n",
    "fsleyesDisplay.load(glob.glob(op.join(subject_preproc_root, 'T1w','*pve_1*'))[0])\n",
    "fsleyesDisplay.load(glob.glob(op.join(subject_preproc_root, 'T1w','*pve_2*'))[0])\n",
    "fsleyesDisplay.displayCtx.getOpts(fsleyesDisplay.overlayList[1]).cmap = 'Red'\n",
    "fsleyesDisplay.displayCtx.getOpts(fsleyesDisplay.overlayList[2]).cmap = 'Green'\n",
    "fsleyesDisplay.displayCtx.getOpts(fsleyesDisplay.overlayList[3]).cmap = 'Blue'"
   ]
  },
  {
   "cell_type": "markdown",
   "id": "4a9eba16-8c23-4437-b52f-c45bc95e74aa",
   "metadata": {},
   "source": [
    "## Concatenation"
   ]
  },
  {
   "cell_type": "code",
   "execution_count": 6,
   "id": "243b5edc-edbc-4093-ba77-85075725588f",
   "metadata": {},
   "outputs": [],
   "source": [
    "# path of the original 4D volumes for variance normalization\n",
    "func_LR_path = op.join(subject_root, 'fMRI', 'tfMRI_MOTOR_LR','tfMRI_MOTOR_LR.nii')\n",
    "func_RL_path = op.join(subject_root, 'fMRI', 'tfMRI_MOTOR_RL','tfMRI_MOTOR_RL.nii')\n",
    "\n",
    "# output paths\n",
    "func_preproc_path = op.join(subject_preproc_root, 'fMRI')\n",
    "LR_preproc_path=op.join(func_preproc_path,'tfMRI_MOTOR_LR')\n",
    "RL_preproc_path=op.join(func_preproc_path,'tfMRI_MOTOR_RL')"
   ]
  },
  {
   "cell_type": "code",
   "execution_count": 30,
   "id": "4169ea56-c859-435c-b00a-cf15b5087899",
   "metadata": {},
   "outputs": [],
   "source": [
    "# creating folders\n",
    "os.makedirs(op.join(subject_preproc_root,'fMRI'))\n",
    "os.makedirs(op.join(func_preproc_path,'tfMRI_MOTOR_LR'))\n",
    "os.makedirs(op.join(func_preproc_path,'tfMRI_MOTOR_RL'))"
   ]
  },
  {
   "cell_type": "code",
   "execution_count": null,
   "id": "ebecf0bb-9bf2-47bb-b615-8cd1160ec520",
   "metadata": {},
   "outputs": [],
   "source": [
    "# check number of volumes, can use json\n",
    "fsleyesDisplay.resetOverlays()\n",
    "fsleyesDisplay.load(func_LR_path) # dimension4 284"
   ]
  },
  {
   "cell_type": "code",
   "execution_count": 7,
   "id": "51034ca1-4cb8-42a9-a130-c54a82df2812",
   "metadata": {},
   "outputs": [],
   "source": [
    "# scaling variance to one\n",
    "import numpy as np\n",
    "\n",
    "#loading data\n",
    "temp = nib.load(func_LR_path)\n",
    "LR_func_data= temp.get_fdata()\n",
    "\n",
    "std_LR=LR_func_data.std(axis=(0,1,2))\n",
    "LR_norm = LR_func_data / std_LR\n",
    "LR_norm_img = nib.Nifti1Image(LR_norm.astype(np.uint8), temp.affine, temp.header)\n",
    "\n",
    "nib.save(LR_norm_img, op.join(LR_preproc_path,'tfMRI_MOTOR_LR_norm.nii'))\n",
    "\n",
    "temp = nib.load(func_RL_path)\n",
    "RL_func_data= temp.get_fdata()\n",
    "\n",
    "std_RL=RL_func_data.std(axis=(0,1,2))\n",
    "RL_norm = RL_func_data / std_RL\n",
    "RL_norm_img = nib.Nifti1Image(RL_norm.astype(np.uint8), temp.affine, temp.header)\n",
    "\n",
    "nib.save(RL_norm_img, op.join(RL_preproc_path,'tfMRI_MOTOR_RL_norm.nii'))"
   ]
  },
  {
   "cell_type": "code",
   "execution_count": null,
   "id": "0f961614-8eec-4552-b204-521bb7339dd6",
   "metadata": {},
   "outputs": [],
   "source": [
    "# sanity check\n",
    "print(LR_norm.std())\n",
    "print(RL_norm.std())"
   ]
  },
  {
   "cell_type": "code",
   "execution_count": null,
   "id": "c5588813-345c-44fa-abfc-ee2889d6ba1a",
   "metadata": {},
   "outputs": [],
   "source": [
    "merged_path=op.join(func_preproc_path, 'tfMRI_MOTOR_merged')\n",
    "subprocess.run(['fslmerge', '-t', merged_path, \n",
    "                    op.join(LR_preproc_path,'tfMRI_MOTOR_LR_norm.nii'), \n",
    "                    op.join(RL_preproc_path,'tfMRI_MOTOR_RL_norm.nii')])"
   ]
  },
  {
   "cell_type": "code",
   "execution_count": null,
   "id": "99798142-c9be-4d9b-8a96-93cbe8922da7",
   "metadata": {},
   "outputs": [],
   "source": [
    "# Overview\n",
    "fsleyesDisplay.resetOverlays()\n",
    "fsleyesDisplay.load(merged_path)"
   ]
  },
  {
   "cell_type": "markdown",
   "id": "6e9c1a2b",
   "metadata": {},
   "source": [
    "## Motor correction"
   ]
  },
  {
   "cell_type": "markdown",
   "id": "90dd3d99",
   "metadata": {},
   "source": [
    "Important: check and delete any preexisting .mat folder if present"
   ]
  },
  {
   "cell_type": "code",
   "execution_count": 11,
   "id": "c5ba9d62-83ec-44c0-9d9c-6d041b464274",
   "metadata": {
    "scrolled": true
   },
   "outputs": [
    {
     "name": "stderr",
     "output_type": "stream",
     "text": [
      "Processed data will be saved as /data/nssp-mp1/dataset/derivatives/preprocessed_data/subject101410/fMRI/tfMRI_MOTOR_moco\n",
      "\n",
      "McFLIRT v 2.0 - FMRI motion correction\n",
      "\n",
      "Reading time series... \n",
      "first iteration - 8mm scaling, set tolerance\n",
      "Rescaling reference volume [-1] to 8 mm pixels\n",
      "Registering volumes ... [0][1][2][3][4][5][6][7][8][9][10][11][12][13][14][15][16][17][18][19][20][21][22][23][24][25][26][27][28][29][30][31][32][33][34][35][36][37][38][39][40][41][42][43][44][45][46][47][48][49][50][51][52][53][54][55][56][57][58][59][60][61][62][63][64][65][66][67][68][69][70][71][72][73][74][75][76][77][78][79][80][81][82][83][84][85][86][87][88][89][90][91][92][93][94][95][96][97][98][99][100][101][102][103][104][105][106][107][108][109][110][111][112][113][114][115][116][117][118][119][120][121][122][123][124][125][126][127][128][129][130][131][132][133][134][135][136][137][138][139][140][141][142][143][144][145][146][147][148][149][150][151][152][153][154][155][156][157][158][159][160][161][162][163][164][165][166][167][168][169][170][171][172][173][174][175][176][177][178][179][180][181][182][183][184][185][186][187][188][189][190][191][192][193][194][195][196][197][198][199][200][201][202][203][204][205][206][207][208][209][210][211][212][213][214][215][216][217][218][219][220][221][222][223][224][225][226][227][228][229][230][231][232][233][234][235][236][237][238][239][240][241][242][243][244][245][246][247][248][249][250][251][252][253][254][255][256][257][258][259][260][261][262][263][264][265][266][267][268][269][270][271][272][273][274][275][276][277][278][279][280][281][282][283][284][285][286][287][288][289][290][291][292][293][294][295][296][297][298][299][300][301][302][303][304][305][306][307][308][309][310][311][312][313][314][315][316][317][318][319][320][321][322][323][324][325][326][327][328][329][330][331][332][333][334][335][336][337][338][339][340][341][342][343][344][345][346][347][348][349][350][351][352][353][354][355][356][357][358][359][360][361][362][363][364][365][366][367][368][369][370][371][372][373][374][375][376][377][378][379][380][381][382][383][384][385][386][387][388][389][390][391][392][393][394][395][396][397][398][399][400][401][402][403][404][405][406][407][408][409][410][411][412][413][414][415][416][417][418][419][420][421][422][423][424][425][426][427][428][429][430][431][432][433][434][435][436][437][438][439][440][441][442][443][444][445][446][447][448][449][450][451][452][453][454][455][456][457][458][459][460][461][462][463][464][465][466][467][468][469][470][471][472][473][474][475][476][477][478][479][480][481][482][483][484][485][486][487][488][489][490][491][492][493][494][495][496][497][498][499][500][501][502][503][504][505][506][507][508][509][510][511][512][513][514][515][516][517][518][519][520][521][522][523][524][525][526][527][528][529][530][531][532][533][534][535][536][537][538][539][540][541][542][543][544][545][546][547][548][549][550][551][552][553][554][555][556][557][558][559][560][561][562][563][564][565][566][567]\n",
      "second iteration - drop to 4mm scaling\n",
      "Rescaling reference volume [-1] to 4 mm pixels\n",
      "Registering volumes ... [0][1][2][3][4][5][6][7][8][9][10][11][12][13][14][15][16][17][18][19][20][21][22][23][24][25][26][27][28][29][30][31][32][33][34][35][36][37][38][39][40][41][42][43][44][45][46][47][48][49][50][51][52][53][54][55][56][57][58][59][60][61][62][63][64][65][66][67][68][69][70][71][72][73][74][75][76][77][78][79][80][81][82][83][84][85][86][87][88][89][90][91][92][93][94][95][96][97][98][99][100][101][102][103][104][105][106][107][108][109][110][111][112][113][114][115][116][117][118][119][120][121][122][123][124][125][126][127][128][129][130][131][132][133][134][135][136][137][138][139][140][141][142][143][144][145][146][147][148][149][150][151][152][153][154][155][156][157][158][159][160][161][162][163][164][165][166][167][168][169][170][171][172][173][174][175][176][177][178][179][180][181][182][183][184][185][186][187][188][189][190][191][192][193][194][195][196][197][198][199][200][201][202][203][204][205][206][207][208][209][210][211][212][213][214][215][216][217][218][219][220][221][222][223][224][225][226][227][228][229][230][231][232][233][234][235][236][237][238][239][240][241][242][243][244][245][246][247][248][249][250][251][252][253][254][255][256][257][258][259][260][261][262][263][264][265][266][267][268][269][270][271][272][273][274][275][276][277][278][279][280][281][282][283][284][285][286][287][288][289][290][291][292][293][294][295][296][297][298][299][300][301][302][303][304][305][306][307][308][309][310][311][312][313][314][315][316][317][318][319][320][321][322][323][324][325][326][327][328][329][330][331][332][333][334][335][336][337][338][339][340][341][342][343][344][345][346][347][348][349][350][351][352][353][354][355][356][357][358][359][360][361][362][363][364][365][366][367][368][369][370][371][372][373][374][375][376][377][378][379][380][381][382][383][384][385][386][387][388][389][390][391][392][393][394][395][396][397][398][399][400][401][402][403][404][405][406][407][408][409][410][411][412][413][414][415][416][417][418][419][420][421][422][423][424][425][426][427][428][429][430][431][432][433][434][435][436][437][438][439][440][441][442][443][444][445][446][447][448][449][450][451][452][453][454][455][456][457][458][459][460][461][462][463][464][465][466][467][468][469][470][471][472][473][474][475][476][477][478][479][480][481][482][483][484][485][486][487][488][489][490][491][492][493][494][495][496][497][498][499][500][501][502][503][504][505][506][507][508][509][510][511][512][513][514][515][516][517][518][519][520][521][522][523][524][525][526][527][528][529][530][531][532][533][534][535][536][537][538][539][540][541][542][543][544][545][546][547][548][549][550][551][552][553][554][555][556][557][558][559][560][561][562][563][564][565][566][567]\n",
      "third iteration - 4mm scaling, eighth tolerance\n",
      "Registering volumes ... [0][1][2][3][4][5][6][7][8][9][10][11][12][13][14][15][16][17][18][19][20][21][22][23][24][25][26][27][28][29][30][31][32][33][34][35][36][37][38][39][40][41][42][43][44][45][46][47][48][49][50][51][52][53][54][55][56][57][58][59][60][61][62][63][64][65][66][67][68][69][70][71][72][73][74][75][76][77][78][79][80][81][82][83][84][85][86][87][88][89][90][91][92][93][94][95][96][97][98][99][100][101][102][103][104][105][106][107][108][109][110][111][112][113][114][115][116][117][118][119][120][121][122][123][124][125][126][127][128][129][130][131][132][133][134][135][136][137][138][139][140][141][142][143][144][145][146][147][148][149][150][151][152][153][154][155][156][157][158][159][160][161][162][163][164][165][166][167][168][169][170][171][172][173][174][175][176][177][178][179][180][181][182][183][184][185][186][187][188][189][190][191][192][193][194][195][196][197][198][199][200][201][202][203][204][205][206][207][208][209][210][211][212][213][214][215][216][217][218][219][220][221][222][223][224][225][226][227][228][229][230][231][232][233][234][235][236][237][238][239][240][241][242][243][244][245][246][247][248][249][250][251][252][253][254][255][256][257][258][259][260][261][262][263][264][265][266][267][268][269][270][271][272][273][274][275][276][277][278][279][280][281][282][283][284][285][286][287][288][289][290][291][292][293][294][295][296][297][298][299][300][301][302][303][304][305][306][307][308][309][310][311][312][313][314][315][316][317][318][319][320][321][322][323][324][325][326][327][328][329][330][331][332][333][334][335][336][337][338][339][340][341][342][343][344][345][346][347][348][349][350][351][352][353][354][355][356][357][358][359][360][361][362][363][364][365][366][367][368][369][370][371][372][373][374][375][376][377][378][379][380][381][382][383][384][385][386][387][388][389][390][391][392][393][394][395][396][397][398][399][400][401][402][403][404][405][406][407][408][409][410][411][412][413][414][415][416][417][418][419][420][421][422][423][424][425][426][427][428][429][430][431][432][433][434][435][436][437][438][439][440][441][442][443][444][445][446][447][448][449][450][451][452][453][454][455][456][457][458][459][460][461][462][463][464][465][466][467][468][469][470][471][472][473][474][475][476][477][478][479][480][481][482][483][484][485][486][487][488][489][490][491][492][493][494][495][496][497][498][499][500][501][502][503][504][505][506][507][508][509][510][511][512][513][514][515][516][517][518][519][520][521][522][523][524][525][526][527][528][529][530][531][532][533][534][535][536][537][538][539][540][541][542][543][544][545][546][547][548][549][550][551][552][553][554][555][556][557][558][559][560][561][562][563][564][565][566][567]\n",
      "Saving motion corrected time series... \n"
     ]
    },
    {
     "data": {
      "text/plain": [
       "{}"
      ]
     },
     "execution_count": 11,
     "metadata": {},
     "output_type": "execute_result"
    }
   ],
   "source": [
    "#we use the middle volume of the LR run\n",
    "reference_path=op.join(func_preproc_path, 'ftMRI_MOTOR_reference.nii.gz')\n",
    "fslroi(merged_path, reference_path ,str(141),str(1))\n",
    "\n",
    "#motion correction with mcflirt\n",
    "motion_corrected_path=op.join(func_preproc_path, 'tfMRI_MOTOR_moco')\n",
    "mcflirt(infile = merged_path, o =motion_corrected_path, reffile=reference_path ,plots=True, report=True, dof=6, mats=True)"
   ]
  },
  {
   "cell_type": "code",
   "execution_count": 13,
   "id": "8229f25f-1392-401f-aaf2-144475253d72",
   "metadata": {},
   "outputs": [],
   "source": [
    "#Overview, 2mm resolution\n",
    "fsleyesDisplay.resetOverlays()\n",
    "fsleyesDisplay.load(op.join(func_preproc_path, 'tfMRI_MOTOR_moco.nii.gz'))"
   ]
  },
  {
   "cell_type": "code",
   "execution_count": 14,
   "id": "56f8e045-a119-4411-a448-e34f9a04223a",
   "metadata": {},
   "outputs": [],
   "source": [
    "#Calculating framewise displacement\n",
    "def load_mot_params_fsl_6_dof(path):\n",
    "    return pd.read_csv(path, sep='  ', header=None, \n",
    "            engine='python', names=['Rotation x', 'Rotation y', 'Rotation z','Translation x', 'Translation y', 'Translation z'])\n",
    "\n",
    "mot_params = load_mot_params_fsl_6_dof(op.join(func_preproc_path, 'tfMRI_MOTOR_moco.par'))\n",
    "\n"
   ]
  },
  {
   "cell_type": "code",
   "execution_count": 15,
   "id": "8859dfc2-baf4-4c8b-b1ca-28539e16f9dd",
   "metadata": {},
   "outputs": [
    {
     "name": "stderr",
     "output_type": "stream",
     "text": [
      "/tmp/ipykernel_426/253717425.py:17: UserWarning: No artists with labels found to put in legend.  Note that artists whose label start with an underscore are ignored when legend() is called with no argument.\n",
      "  plt.legend()\n"
     ]
    },
    {
     "data": {
      "image/png": "[encoded data removed]",
      "text/plain": [
       "<Figure size 640x480 with 1 Axes>"
      ]
     },
     "metadata": {},
     "output_type": "display_data"
    }
   ],
   "source": [
    "import matplotlib.pyplot as plt\n",
    "def compute_FD_power(mot_params):\n",
    "    framewise_diff = mot_params.diff().iloc[1:]\n",
    "\n",
    "    rot_params = framewise_diff[['Rotation x', 'Rotation y', 'Rotation z']]\n",
    "    # Estimating displacement on a 50mm radius sphere\n",
    "\n",
    "    converted_rots = rot_params*50\n",
    "    trans_params = framewise_diff[['Translation x', 'Translation y', 'Translation z']]\n",
    "    fd = converted_rots.abs().sum(axis=1) + trans_params.abs().sum(axis=1)\n",
    "    return fd\n",
    "\n",
    "fd = compute_FD_power(mot_params).to_numpy()\n",
    "plt.plot(list(range(1, fd.size+1)), fd)\n",
    "plt.xlabel('Volume')\n",
    "plt.ylabel('FD displacement (mm)')\n",
    "plt.legend()\n",
    "plt.show() #big displacement at the runs switching, to be expected"
   ]
  },
  {
   "cell_type": "markdown",
   "id": "657b180e",
   "metadata": {},
   "source": [
    "## (Bonus) Coregistration"
   ]
  },
  {
   "cell_type": "code",
   "execution_count": 17,
   "id": "ec670b8b-9834-447a-8cd0-77aaa47da344",
   "metadata": {},
   "outputs": [
    {
     "name": "stdout",
     "output_type": "stream",
     "text": [
      "FLIRT pre-alignment\n",
      "Running BBR\n",
      "1.018467 0.996950 0.077585 -0.008413 0.000000 -0.078033 0.992439 -0.094736 0.000000 0.000999 0.095103 0.995467 0.000000 16.448204 -15.445828 23.437241 1.000000 \n"
     ]
    }
   ],
   "source": [
    "coregister_path=op.join(func_preproc_path, 'tfMRI_MOTOR_coregistered')\n",
    "white_matter_segmentation=op.join(subject_preproc_root,  'T1w','T1w_fasted_pve_2.nii.gz')\n",
    "\n",
    "use_single_vol: bool = True\n",
    "if use_single_vol:\n",
    "\n",
    "    subprocess.run(['epi_reg','--epi={}'.format(reference_path), '--t1={}'.format(anat_path), '--t1brain={}'.format(betted_brain_path), '--out={}'.format(coregister_path),'--wmseg={}'.format(white_matter_segmentation)])\n",
    "else:\n",
    "    subprocess.run(['epi_reg','--epi={}'.format(motion_corrected_path), '--t1={}'.format(anat_path), '--t1brain={}'.format(betted_brain_path), '--out={}'.format(coregister_path),'--wmseg={}'.format(white_matter_segmentation)])"
   ]
  },
  {
   "cell_type": "code",
   "execution_count": 18,
   "id": "ac064948-5d68-4c3e-8208-6b8d345356fc",
   "metadata": {},
   "outputs": [],
   "source": [
    "fsleyesDisplay.resetOverlays()\n",
    "fsleyesDisplay.load(anat_path)\n",
    "fsleyesDisplay.load(coregister_path)"
   ]
  },
  {
   "cell_type": "markdown",
   "id": "125b5678",
   "metadata": {},
   "source": [
    "## Smoothing"
   ]
  },
  {
   "cell_type": "code",
   "execution_count": null,
   "id": "54d00685-4160-451f-aa0e-37b13ae8e8a7",
   "metadata": {},
   "outputs": [
    {
     "data": {
      "text/plain": [
       "CompletedProcess(args=['fslmaths', '/data/nssp-mp1/dataset/derivatives/preprocessed_data/subject101410/fMRI/tfMRI_MOTOR_moco', '-s', '1.6986580601324954', '/data/nssp-mp1/dataset/derivatives/preprocessed_data/subject101410/fMRI/tfMRI_MOTOR_moco_smoothed_4mm'], returncode=0)"
      ]
     },
     "execution_count": 22,
     "metadata": {},
     "output_type": "execute_result"
    }
   ],
   "source": [
    "# motion corrected resolution is 2 x 2 x 2 mm\n",
    "FMWH=4\n",
    "source_path = motion_corrected_path + \".nii.gz\"\n",
    "subprocess.run(['fslmaths',source_path, '-s', str(FMWH/2.3548), '{}_smoothed_4mm'.format(source_path)])"
   ]
  },
  {
   "cell_type": "code",
   "execution_count": null,
   "id": "3a087eaa-5b68-4ae4-b087-4bc46dffdc79",
   "metadata": {
    "scrolled": true
   },
   "outputs": [],
   "source": [
    "fsleyesDisplay.resetOverlays()\n",
    "fsleyesDisplay.load(source_path + \"_smoothed_4mm\")"
   ]
  }
 ],
 "metadata": {
  "kernelspec": {
   "display_name": "Python 3 (ipykernel)",
   "language": "python",
   "name": "python3"
  },
  "language_info": {
   "codemirror_mode": {
    "name": "ipython",
    "version": 3
   },
   "file_extension": ".py",
   "mimetype": "text/x-python",
   "name": "python",
   "nbconvert_exporter": "python",
   "pygments_lexer": "ipython3",
   "version": "3.11.6"
  }
 },
 "nbformat": 4,
 "nbformat_minor": 5
}
