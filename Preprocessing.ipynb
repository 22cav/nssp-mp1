{
 "cells": [
  {
   "cell_type": "code",
   "execution_count": 2,
   "id": "9cab022b-f41e-4998-be64-cb37ac7780df",
   "metadata": {},
   "outputs": [],
   "source": [
    "import sys\n",
    "import os\n",
    "\n",
    "#####################\n",
    "# Import of utils.py functions\n",
    "#####################\n",
    "# Required to get utils.py and access its functions\n",
    "notebook_dir = os.path.abspath(\"\")\n",
    "parent_dir = os.path.abspath(os.path.join(notebook_dir, '..'))\n",
    "sys.path.append(parent_dir)\n",
    "sys.path.append('.')\n",
    "from utils import loadFSL, FSLeyesServer, mkdir_no_exist, interactive_MCQ\n",
    "\n",
    "####################\n",
    "# DIPY_HOME should be set prior to import of dipy to make sure all downloads point to the right folder\n",
    "####################\n",
    "os.environ[\"DIPY_HOME\"] = \"/home/jovyan/Data\"\n",
    "\n",
    "\n",
    "#############################\n",
    "# Loading fsl and freesurfer within Neurodesk\n",
    "# You can find the list of available other modules by clicking on the \"Softwares\" tab on the left\n",
    "#############################\n",
    "import lmod\n",
    "await lmod.purge(force=True)\n",
    "await lmod.load('fsl/6.0.7.4')\n",
    "await lmod.load('freesurfer/7.4.1')\n",
    "await lmod.list()\n",
    "\n",
    "####################\n",
    "# Setup FSL path\n",
    "####################\n",
    "loadFSL()\n",
    "\n",
    "###################\n",
    "# Load all relevant libraries for the lab\n",
    "##################\n",
    "import fsl.wrappers \n",
    "import mne_nirs\n",
    "import nilearn\n",
    "import mne\n",
    "import mne_nirs\n",
    "import dipy\n",
    "from dipy.data import fetch_bundles_2_subjects\n",
    "import xml.etree.ElementTree as ET\n",
    "import os.path as op\n",
    "import nibabel as nib\n",
    "from nilearn.datasets import fetch_development_fmri\n",
    "from fsl.wrappers import fslmaths\n",
    "import glob"
   ]
  },
  {
   "cell_type": "code",
   "execution_count": 3,
   "id": "3e418cca-aa8c-4894-b2d0-fbb4a95bdf21",
   "metadata": {},
   "outputs": [
    {
     "name": "stderr",
     "output_type": "stream",
     "text": [
      "Gtk-Message: 18:22:14.760: Failed to load module \"canberra-gtk-module\"\n"
     ]
    }
   ],
   "source": [
    "%gui wx"
   ]
  },
  {
   "cell_type": "code",
   "execution_count": 4,
   "id": "3f3943d5-94d9-40e4-b0f7-ab0aa6168517",
   "metadata": {},
   "outputs": [
    {
     "name": "stderr",
     "output_type": "stream",
     "text": [
      "18:22:16: Debug: Adding duplicate image handler for 'Windows bitmap file'\n",
      "18:22:16: Debug: Adding duplicate animation handler for '1' type\n",
      "18:22:16: Debug: Adding duplicate animation handler for '2' type\n",
      "18:22:17: Debug: Adding duplicate image handler for 'Windows bitmap file'\n",
      "18:22:17: Debug: Adding duplicate animation handler for '1' type\n",
      "18:22:17: Debug: Adding duplicate animation handler for '2' type\n",
      "\n",
      "(ipykernel_launcher.py:441): Gtk-CRITICAL **: 18:22:17.630: gtk_window_resize: assertion 'height > 0' failed\n"
     ]
    }
   ],
   "source": [
    "fsleyesDisplay = FSLeyesServer()\n",
    "fsleyesDisplay.show()"
   ]
  },
  {
   "cell_type": "code",
   "execution_count": 8,
   "id": "3658ada5-0ce1-414c-9dc1-fc2e184ac156",
   "metadata": {},
   "outputs": [],
   "source": [
    "\n",
    "# creating derivative root\n",
    "deriv_root = op.join( notebook_dir, \"dataset\", \"derivatives\")\n",
    "mkdir_no_exist(deriv_root)\n",
    "\n",
    "# creating preprocessing root\n",
    "preproc_root = op.join(deriv_root,'preprocessed_data')\n",
    "mkdir_no_exist(preproc_root)\n",
    "bids_root = op.join(notebook_dir, \"dataset\")\n",
    "\n",
    "anat_path = op.join(bids_root, \"T1w\", \"T1w.nii.gz\")"
   ]
  },
  {
   "cell_type": "code",
   "execution_count": 5,
   "id": "a0e63fb6-1fdb-46b9-968f-33babc37194d",
   "metadata": {},
   "outputs": [],
   "source": [
    "fsleyesDisplay.load(anat_path)"
   ]
  },
  {
   "cell_type": "code",
   "execution_count": null,
   "id": "5d1b01e0-9d8c-41b2-8954-b131d494ed21",
   "metadata": {},
   "outputs": [],
   "source": [
    "# os.system(\"bet\")"
   ]
  },
  {
   "cell_type": "code",
   "execution_count": 9,
   "id": "61b33f7e-e5c9-419e-9253-84f07d1115a7",
   "metadata": {},
   "outputs": [],
   "source": [
    "# skull stripping\n",
    "betted_path = op.join(preproc_root, \"T1w\", \"T1w_skull.nii.gz\")"
   ]
  },
  {
   "cell_type": "code",
   "execution_count": null,
   "id": "cfce5097-c911-4a87-9e2d-f568004c7cc5",
   "metadata": {},
   "outputs": [],
   "source": [
    "os.system('bet {} {} -m {}'.format(anat_path, betted_path, '-R' ))"
   ]
  },
  {
   "cell_type": "code",
   "execution_count": 9,
   "id": "0095c3f9-93eb-41ca-b751-733bbc17d3b4",
   "metadata": {},
   "outputs": [],
   "source": [
    "fsleyesDisplay.load(betted_path)"
   ]
  },
  {
   "cell_type": "code",
   "execution_count": 30,
   "id": "312bcfe8-89cf-4fb6-ba8e-b7c9a03135e1",
   "metadata": {},
   "outputs": [],
   "source": [
    "# fsleyesDisplay.resetOverlays()\n",
    "# fsleyesDisplay.load(op.join(preproc_root, \"T1w\", \"T1w_skull_mask.nii.gz\"))"
   ]
  },
  {
   "cell_type": "code",
   "execution_count": 10,
   "id": "573d8cdf-823c-4af3-b212-2694fe6bb0be",
   "metadata": {},
   "outputs": [
    {
     "name": "stderr",
     "output_type": "stream",
     "text": [
      "\n",
      "Part of FSL (ID: \"\")\n",
      "FAST \n",
      "Copyright(c) 2004-2012, University of Oxford\n",
      "\n",
      "Usage: \n",
      "fast [options] file(s)\n",
      "\n",
      "Optional arguments (You may optionally specify one or more of):\n",
      "\t-n,--class\tnumber of tissue-type classes; default=3\n",
      "\t-I,--iter\tnumber of main-loop iterations during bias-field removal; default=4\n",
      "\t-l,--lowpass\tbias field smoothing extent (FWHM) in mm; default=20\n",
      "\t-t,--type\ttype of image 1=T1, 2=T2, 3=PD; default=T1\n",
      "\t-f,--fHard\tinitial segmentation spatial smoothness (during bias field estimation); default=0.02\n",
      "\t-g,--segments\toutputs a separate binary image for each tissue type\n",
      "\t-a <standard2input.mat> initialise using priors; you must supply a FLIRT transform\n",
      "\t-A <prior1> <prior2> <prior3>    alternative prior images\n",
      "\t--nopve\tturn off PVE (partial volume estimation)\n",
      "\t-b\t\toutput estimated bias field\n",
      "\t-B\t\toutput bias-corrected image\n",
      "\t-N,--nobias\tdo not remove bias field\n",
      "\t-S,--channels\tnumber of input images (channels); default 1\n",
      "\t-o,--out\toutput basename\n",
      "\t-P,--Prior\tuse priors throughout; you must also set the -a option\n",
      "\t-W,--init\tnumber of segmentation-initialisation iterations; default=15\n",
      "\t-R,--mixel\tspatial smoothness for mixeltype; default=0.3\n",
      "\t-O,--fixed\tnumber of main-loop iterations after bias-field removal; default=4\n",
      "\t-H,--Hyper\tsegmentation spatial smoothness; default=0.1\n",
      "\t-v,--verbose\tswitch on diagnostic messages\n",
      "\t-h,--help\tdisplay this message\n",
      "\t-s,--manualseg <filename> Filename containing intensities\n",
      "\t-p\t\toutputs individual probability maps\n",
      "\n",
      "\n"
     ]
    },
    {
     "data": {
      "text/plain": [
       "256"
      ]
     },
     "execution_count": 10,
     "metadata": {},
     "output_type": "execute_result"
    }
   ],
   "source": [
    "os.system(\"fast\")"
   ]
  },
  {
   "cell_type": "code",
   "execution_count": 17,
   "id": "8186a222-6d55-4545-a494-a3f12fa14991",
   "metadata": {},
   "outputs": [
    {
     "data": {
      "text/plain": [
       "0"
      ]
     },
     "execution_count": 17,
     "metadata": {},
     "output_type": "execute_result"
    }
   ],
   "source": [
    "# tissue segmentation\n",
    "\n",
    "fast_path = op.join(preproc_root, \"T1w\", \"T1w_fast\")\n",
    "# nome anomalo --> output di fast ha _skull_ e non _fast_\n",
    "os.system('fast {} {}'.format(fast_path, betted_path))"
   ]
  },
  {
   "cell_type": "code",
   "execution_count": 18,
   "id": "58c23497-fac5-43de-b328-959c71ce671f",
   "metadata": {},
   "outputs": [],
   "source": [
    "fsleyesDisplay.resetOverlays()\n",
    "fsleyesDisplay.load(betted_path)\n",
    "fsleyesDisplay.load(glob.glob(op.join(preproc_root, 'T1w','*pve_0*'))[0])\n",
    "fsleyesDisplay.load(glob.glob(op.join(preproc_root, 'T1w','*pve_1*'))[0])\n",
    "fsleyesDisplay.load(glob.glob(op.join(preproc_root, 'T1w','*pve_2*'))[0])\n",
    "fsleyesDisplay.displayCtx.getOpts(fsleyesDisplay.overlayList[1]).cmap = 'Red'\n",
    "fsleyesDisplay.displayCtx.getOpts(fsleyesDisplay.overlayList[2]).cmap = 'Green'\n",
    "fsleyesDisplay.displayCtx.getOpts(fsleyesDisplay.overlayList[3]).cmap = 'Blue'"
   ]
  },
  {
   "cell_type": "code",
   "execution_count": 10,
   "id": "d816d439-54aa-44ae-8cf1-90ea730605e5",
   "metadata": {},
   "outputs": [],
   "source": [
    "# checking what does RL and LR mean\n",
    "\n",
    "func_LR_path = op.join(bids_root, 'fMRI', 'tfMRI_MOTOR_LR','tfMRI_MOTOR_LR.nii')\n",
    "func_RL_path = op.join(bids_root, 'fMRI', 'tfMRI_MOTOR_RL','tfMRI_MOTOR_RL.nii')\n",
    "\n",
    "# fsleyesDisplay.resetOverlays()\n",
    "# fsleyesDisplay.load(func_LR_path)\n",
    "# fsleyesDisplay.load(func_RL_path)\n",
    "# same reference"
   ]
  },
  {
   "cell_type": "code",
   "execution_count": null,
   "id": "51034ca1-4cb8-42a9-a130-c54a82df2812",
   "metadata": {},
   "outputs": [],
   "source": [
    "# scaling variance to one\n",
    "import numpy as np\n",
    "temp = nib.load(func_LR_path)\n",
    "LR_func_data= temp.get_fdata()\n",
    "std_LR=LR_func_data.std(axis=(0,1,2))\n",
    "LR_norm = LR_func_data / std_LR\n",
    "LR_norm_img = nib.Nifti1Image(LR_norm.astype(np.uint8), temp.affine, temp.header)\n",
    "# LR_path = op.join(preproc_root, 'fMRI','tfMRI_MOTOR_LR_norm.nii')\n",
    "func_preproc_path = op.join(preproc_root, 'fMRI')\n",
    "mkdir_no_exist(func_preproc_path)\n",
    "nib.save(LR_norm_img, op.join(func_preproc_path,'tfMRI_MOTOR_LR_norm.nii'))\n",
    "\n",
    "temp = nib.load(func_RL_path)\n",
    "RL_func_data= temp.get_fdata()\n",
    "std_RL=RL_func_data.std(axis=(0,1,2))\n",
    "RL_norm = RL_func_data / std_RL\n",
    "RL_norm_img = nib.Nifti1Image(RL_norm.astype(np.uint8), temp.affine, temp.header)\n",
    "# RL_path = op.join(preproc_root, 'fMRI','tfMRI_MOTOR_RL_norm.nii')\n",
    "nib.save(RL_norm_img, op.join(func_preproc_path,'tfMRI_MOTOR_RL_norm.nii'))"
   ]
  },
  {
   "cell_type": "code",
   "execution_count": 35,
   "id": "0f961614-8eec-4552-b204-521bb7339dd6",
   "metadata": {},
   "outputs": [
    {
     "name": "stdout",
     "output_type": "stream",
     "text": [
      "1.000000021161999\n"
     ]
    }
   ],
   "source": [
    "# concatenating runs\n",
    "print(LR_norm.std())"
   ]
  },
  {
   "cell_type": "code",
   "execution_count": 22,
   "id": "c5588813-345c-44fa-abfc-ee2889d6ba1a",
   "metadata": {},
   "outputs": [
    {
     "name": "stderr",
     "output_type": "stream",
     "text": [
      "sh: 1: merge: not found\n"
     ]
    },
    {
     "data": {
      "text/plain": [
       "32512"
      ]
     },
     "execution_count": 22,
     "metadata": {},
     "output_type": "execute_result"
    }
   ],
   "source": [
    "subprocess.run(['fslmerge', '-t', merged_phase_imgs, \n",
    "                    op.join(fmap_path, 'sub-001_acq-task_dir-AP_epi.nii.gz'), \n",
    "                    op.join(fmap_path, 'sub-001_acq-task_dir-PA_epi.nii.gz')])"
   ]
  }
 ],
 "metadata": {
  "kernelspec": {
   "display_name": "Python 3 (ipykernel)",
   "language": "python",
   "name": "python3"
  },
  "language_info": {
   "codemirror_mode": {
    "name": "ipython",
    "version": 3
   },
   "file_extension": ".py",
   "mimetype": "text/x-python",
   "name": "python",
   "nbconvert_exporter": "python",
   "pygments_lexer": "ipython3",
   "version": "3.11.6"
  }
 },
 "nbformat": 4,
 "nbformat_minor": 5
}
