{
 "cells": [
  {
   "cell_type": "code",
   "execution_count": null,
   "id": "d267db19-0122-4c32-8a45-0d38c80a53b7",
   "metadata": {},
   "outputs": [],
   "source": [
    "import os\n",
    "os.getcwd()"
   ]
  },
  {
   "cell_type": "code",
   "execution_count": null,
   "id": "9cab022b-f41e-4998-be64-cb37ac7780df",
   "metadata": {},
   "outputs": [],
   "source": [
    "import sys\n",
    "import os\n",
    "\n",
    "#####################\n",
    "# Import of utils.py functions\n",
    "#####################\n",
    "root_dir = os.getcwd()\n",
    "sys.path.append('.')\n",
    "from utils import loadFSL, FSLeyesServer\n",
    "\n",
    "####################\n",
    "# DIPY_HOME should be set prior to import of dipy to make sure all downloads point to the right folder\n",
    "####################\n",
    "\n",
    "# ???\n",
    "# os.environ[\"DIPY_HOME\"] = \"/home/jovyan/Data\"\n",
    "\n",
    "#############################\n",
    "# Loading fsl and freesurfer within Neurodesk\n",
    "# You can find the list of available other modules by clicking on the \"Softwares\" tab on the left\n",
    "#############################\n",
    "import lmod\n",
    "await lmod.purge(force=True)\n",
    "await lmod.load('fsl/6.0.7.4')\n",
    "await lmod.load('freesurfer/7.4.1')\n",
    "await lmod.list()\n",
    "\n",
    "####################\n",
    "# Setup FSL path\n",
    "####################\n",
    "loadFSL()\n",
    "\n",
    "###################\n",
    "# Load all relevant libraries\n",
    "##################\n",
    "import fsl.wrappers\n",
    "from fsl.wrappers import fslmaths, flirt, fast, bet, mcflirt, epi_reg, fslroi\n",
    "from fsl.wrappers.misc import fslroi\n",
    "import mne_nirs\n",
    "import nilearn\n",
    "from nilearn.datasets import fetch_development_fmri\n",
    "import mne\n",
    "import mne_nirs\n",
    "import dipy\n",
    "from dipy.data import fetch_bundles_2_subjects, read_bundles_2_subjects\n",
    "import xml.etree.ElementTree as ET\n",
    "import os.path as op\n",
    "import nibabel as nib\n",
    "import glob\n",
    "\n",
    "import ants\n",
    "\n",
    "import openneuro\n",
    "from mne.datasets import sample\n",
    "from mne_bids import BIDSPath, read_raw_bids, print_dir_tree, make_report\n",
    "\n",
    "import pandas as pd\n",
    "import numpy as np\n",
    "import json\n",
    "import subprocess"
   ]
  },
  {
   "cell_type": "code",
   "execution_count": null,
   "id": "2bb92300-b457-4f4a-b451-dd3120e61774",
   "metadata": {},
   "outputs": [],
   "source": [
    "# Cleanup previously defined data\n",
    "os.system(\"rm -rf dataset/derivatives\")"
   ]
  },
  {
   "cell_type": "code",
   "execution_count": null,
   "id": "3e418cca-aa8c-4894-b2d0-fbb4a95bdf21",
   "metadata": {},
   "outputs": [],
   "source": [
    "%gui wx"
   ]
  },
  {
   "cell_type": "code",
   "execution_count": null,
   "id": "3f3943d5-94d9-40e4-b0f7-ab0aa6168517",
   "metadata": {},
   "outputs": [],
   "source": [
    "fsleyesDisplay = FSLeyesServer()\n",
    "fsleyesDisplay.show()"
   ]
  },
  {
   "cell_type": "code",
   "execution_count": null,
   "id": "3658ada5-0ce1-414c-9dc1-fc2e184ac156",
   "metadata": {},
   "outputs": [],
   "source": [
    "# Creating derivative root and saving some useful paths\n",
    "subject = \"subject101410\"\n",
    "\n",
    "bids_root = op.join(root_dir, \"dataset\")\n",
    "subject_root = op.join(bids_root, subject)\n",
    "\n",
    "derivatives_root = op.join(bids_root, \"derivatives\")\n",
    "os.makedirs(derivatives_root, exist_ok=True)\n",
    "preproc_root = op.join(derivatives_root, \"preprocessed_data\")\n",
    "os.makedirs(preproc_root, exist_ok=True)\n",
    "subject_preproc_root = op.join(preproc_root, subject)\n",
    "os.makedirs(subject_preproc_root, exist_ok=True)\n",
    "\n",
    "anat_path = op.join(subject_root, \"T1w\", \"T1w.nii.gz\")"
   ]
  },
  {
   "cell_type": "code",
   "execution_count": null,
   "id": "a0e63fb6-1fdb-46b9-968f-33babc37194d",
   "metadata": {},
   "outputs": [],
   "source": [
    "fsleyesDisplay.resetOverlays()\n",
    "fsleyesDisplay.load(anat_path)"
   ]
  },
  {
   "cell_type": "code",
   "execution_count": null,
   "id": "5d1b01e0-9d8c-41b2-8954-b131d494ed21",
   "metadata": {},
   "outputs": [],
   "source": [
    "# To display the commands and how to use the \"bet\" command\n",
    "os.system(\"bet -h\")"
   ]
  },
  {
   "cell_type": "code",
   "execution_count": null,
   "id": "61b33f7e-e5c9-419e-9253-84f07d1115a7",
   "metadata": {},
   "outputs": [],
   "source": [
    "# Skull stripping with \"bet\"\n",
    "robust: bool = True\n",
    "\n",
    "# Define the path where to save the file\n",
    "os.makedirs(op.join(subject_preproc_root, \"T1w\"), exist_ok=True)\n",
    "betted_brain_path = op.join(subject_preproc_root, \"T1w\", \"T1w_skull.nii.gz\")\n",
    "\n",
    "# Apply \"bet\" and save the file\n",
    "robust_text = \"-R\" if robust else \"\"\n",
    "os.system(f\"bet {anat_path} {betted_brain_path} -m {robust_text}\")\n",
    "\n",
    "# BET also creates a resulting Mask that is useful to display\n",
    "resulting_mask = op.join(subject_preproc_root, \"T1w\", \"T1w_skull_mask.nii.gz\")\n",
    "\n",
    "print(\"Skull stripping with BET succeeded!\")"
   ]
  },
  {
   "cell_type": "code",
   "execution_count": null,
   "id": "0095c3f9-93eb-41ca-b751-733bbc17d3b4",
   "metadata": {},
   "outputs": [],
   "source": [
    "# Display the Skull Stripped Image\n",
    "fsleyesDisplay.load(resulting_mask)"
   ]
  },
  {
   "cell_type": "code",
   "execution_count": null,
   "id": "651ba121-dfac-4f48-b96b-63ebc06d09e3",
   "metadata": {},
   "outputs": [],
   "source": [
    "# Now we have to apply the mask to the image\n",
    "def apply_fsl_math_approach(img_path, mask_path, masked_img_path):\n",
    "    os.system(f'fslmaths {img_path} -mas {mask_path} {masked_img_path}')\n",
    "\n",
    "apply_fsl_math_approach(anat_path, resulting_mask, betted_brain_path)"
   ]
  },
  {
   "cell_type": "code",
   "execution_count": null,
   "id": "8faeb725-fc98-433f-9aed-965eb8f07017",
   "metadata": {},
   "outputs": [],
   "source": [
    "fsleyesDisplay.resetOverlays()\n",
    "fsleyesDisplay.load(betted_brain_path)"
   ]
  },
  {
   "cell_type": "code",
   "execution_count": null,
   "id": "0441cde1-82e5-4177-a3ea-46467e68233d",
   "metadata": {},
   "outputs": [],
   "source": [
    "# Comparison between T1 and skull stripped\n",
    "fsleyesDisplay.resetOverlays()\n",
    "fsleyesDisplay.load(betted_brain_path)\n",
    "fsleyesDisplay.load(anat_path)"
   ]
  },
  {
   "cell_type": "code",
   "execution_count": null,
   "id": "573d8cdf-823c-4af3-b212-2694fe6bb0be",
   "metadata": {},
   "outputs": [],
   "source": [
    "os.system(\"fast -h\")"
   ]
  },
  {
   "cell_type": "code",
   "execution_count": null,
   "id": "8186a222-6d55-4545-a494-a3f12fa14991",
   "metadata": {},
   "outputs": [],
   "source": [
    "# tissue segmentation\n",
    "import time\n",
    "\n",
    "start = time.time()\n",
    "fast_output_path = op.join(subject_preproc_root, \"T1w\", \"T1w_fasted\")\n",
    "fast_target = betted_brain_path \n",
    "\n",
    "# Quick cleanup\n",
    "[os.remove(f) for f in glob.glob(op.join(subject_preproc_root, \"T1w\", '*fast*'))]\n",
    "\n",
    "fast(imgs=[fast_target], out=fast_output_path, n_classes=3)\n",
    "finish = time.time()\n",
    "print(f\"Segmentation succeded in {finish-start} seconds\")"
   ]
  },
  {
   "cell_type": "code",
   "execution_count": null,
   "id": "3d26b917-f50d-4298-9107-b5b4cdbf0703",
   "metadata": {},
   "outputs": [],
   "source": [
    "print_dir_tree(preproc_root, max_depth=3)"
   ]
  },
  {
   "cell_type": "code",
   "execution_count": null,
   "id": "58c23497-fac5-43de-b328-959c71ce671f",
   "metadata": {},
   "outputs": [],
   "source": [
    "fsleyesDisplay.resetOverlays()\n",
    "fsleyesDisplay.load(betted_brain_path)\n",
    "fsleyesDisplay.load(glob.glob(op.join(subject_preproc_root, 'T1w','*pve_0*'))[0])\n",
    "fsleyesDisplay.load(glob.glob(op.join(subject_preproc_root, 'T1w','*pve_1*'))[0])\n",
    "fsleyesDisplay.load(glob.glob(op.join(subject_preproc_root, 'T1w','*pve_2*'))[0])\n",
    "fsleyesDisplay.displayCtx.getOpts(fsleyesDisplay.overlayList[1]).cmap = 'Red'\n",
    "fsleyesDisplay.displayCtx.getOpts(fsleyesDisplay.overlayList[2]).cmap = 'Green'\n",
    "fsleyesDisplay.displayCtx.getOpts(fsleyesDisplay.overlayList[3]).cmap = 'Blue'"
   ]
  },
  {
   "cell_type": "markdown",
   "id": "4a9eba16-8c23-4437-b52f-c45bc95e74aa",
   "metadata": {},
   "source": [
    "## I have checked and made sure everything works up to here, Check what is going on later"
   ]
  },
  {
   "cell_type": "code",
   "execution_count": null,
   "id": "243b5edc-edbc-4093-ba77-85075725588f",
   "metadata": {},
   "outputs": [],
   "source": [
    "# checking what does RL and LR mean\n",
    "func_LR_path = op.join(subject_root, 'fMRI', 'tfMRI_MOTOR_LR','tfMRI_MOTOR_LR.nii')\n",
    "func_RL_path = op.join(subject_root, 'fMRI', 'tfMRI_MOTOR_RL','tfMRI_MOTOR_RL.nii')\n",
    "\n",
    "# creating folder\n",
    "\n",
    "func_preproc_path = op.join(subject_preproc_root, 'fMRI')\n",
    "LR_preproc_path=op.join(func_preproc_path,'tfMRI_MOTOR_LR')\n",
    "RL_preproc_path=op.join(func_preproc_path,'tfMRI_MOTOR_RL')"
   ]
  },
  {
   "cell_type": "code",
   "execution_count": null,
   "id": "4169ea56-c859-435c-b00a-cf15b5087899",
   "metadata": {},
   "outputs": [],
   "source": [
    "os.makedirs(op.join(subject_preproc_root,'fMRI'))\n",
    "os.makedirs(op.join(func_preproc_path,'tfMRI_MOTOR_LR'))\n",
    "os.makedirs(op.join(func_preproc_path,'tfMRI_MOTOR_RL'))"
   ]
  },
  {
   "cell_type": "code",
   "execution_count": null,
   "id": "ebecf0bb-9bf2-47bb-b615-8cd1160ec520",
   "metadata": {},
   "outputs": [],
   "source": [
    "fsleyesDisplay.resetOverlays()\n",
    "fsleyesDisplay.load(func_LR_path) # dimension4 284"
   ]
  },
  {
   "cell_type": "code",
   "execution_count": null,
   "id": "51034ca1-4cb8-42a9-a130-c54a82df2812",
   "metadata": {},
   "outputs": [],
   "source": [
    "# scaling variance to one\n",
    "import numpy as np\n",
    "temp = nib.load(func_LR_path)\n",
    "LR_func_data= temp.get_fdata()\n",
    "std_LR=LR_func_data.std(axis=(0,1,2))\n",
    "LR_norm = LR_func_data / std_LR\n",
    "LR_norm_img = nib.Nifti1Image(LR_norm.astype(np.uint8), temp.affine, temp.header)\n",
    "# LR_path = op.join(preproc_root, 'fMRI','tfMRI_MOTOR_LR_norm.nii')\n",
    "\n",
    "nib.save(LR_norm_img, op.join(LR_preproc_path,'tfMRI_MOTOR_LR_norm.nii'))\n",
    "\n",
    "temp = nib.load(func_RL_path)\n",
    "RL_func_data= temp.get_fdata()\n",
    "std_RL=RL_func_data.std(axis=(0,1,2))\n",
    "RL_norm = RL_func_data / std_RL\n",
    "RL_norm_img = nib.Nifti1Image(RL_norm.astype(np.uint8), temp.affine, temp.header)\n",
    "# RL_path = op.join(preproc_root, 'fMRI','tfMRI_MOTOR_RL_norm.nii')\n",
    "nib.save(RL_norm_img, op.join(RL_preproc_path,'tfMRI_MOTOR_RL_norm.nii'))"
   ]
  },
  {
   "cell_type": "code",
   "execution_count": null,
   "id": "0f961614-8eec-4552-b204-521bb7339dd6",
   "metadata": {},
   "outputs": [],
   "source": [
    "# concatenating runs\n",
    "print(LR_norm.std())"
   ]
  },
  {
   "cell_type": "code",
   "execution_count": null,
   "id": "532fa1f1-1386-4c20-9858-457cb26dbdf3",
   "metadata": {},
   "outputs": [],
   "source": []
  },
  {
   "cell_type": "code",
   "execution_count": null,
   "id": "c5588813-345c-44fa-abfc-ee2889d6ba1a",
   "metadata": {},
   "outputs": [],
   "source": [
    "merged_path=op.join(func_preproc_path, 'tfMRI_MOTOR_merged')\n",
    "subprocess.run(['fslmerge', '-t', merged_path, \n",
    "                    op.join(LR_preproc_path,'tfMRI_MOTOR_LR_norm.nii'), \n",
    "                    op.join(RL_preproc_path,'tfMRI_MOTOR_RL_norm.nii')])"
   ]
  },
  {
   "cell_type": "code",
   "execution_count": null,
   "id": "99798142-c9be-4d9b-8a96-93cbe8922da7",
   "metadata": {},
   "outputs": [],
   "source": [
    "# Overview\n",
    "fsleyesDisplay.resetOverlays()\n",
    "fsleyesDisplay.load(merged_path)"
   ]
  },
  {
   "cell_type": "code",
   "execution_count": null,
   "id": "c5ba9d62-83ec-44c0-9d9c-6d041b464274",
   "metadata": {},
   "outputs": [],
   "source": [
    "# We use as reference middle volume of first run RL, DELETE .MAT FILES BETWEEN RUNS\n",
    "reference_path=op.join(func_preproc_path, 'ftMRI_MOTOR_reference.nii.gz')\n",
    "fslroi(merged_path, reference_path ,str(423),str(1))\n",
    "motion_corrected_path=op.join(func_preproc_path, 'tfMRI_MOTOR_moco')\n",
    "mcflirt(infile = merged_path, o =motion_corrected_path, reffile=reference_path ,plots=True, report=True, dof=6, mats=True)"
   ]
  },
  {
   "cell_type": "code",
   "execution_count": null,
   "id": "8229f25f-1392-401f-aaf2-144475253d72",
   "metadata": {},
   "outputs": [],
   "source": [
    "#Overview, 2mm resolution\n",
    "fsleyesDisplay.load(op.join(func_preproc_path, 'tfMRI_MOTOR_moco.nii.gz'))"
   ]
  },
  {
   "cell_type": "code",
   "execution_count": null,
   "id": "56f8e045-a119-4411-a448-e34f9a04223a",
   "metadata": {},
   "outputs": [],
   "source": [
    "#Calculating framewise displacement\n",
    "def load_mot_params_fsl_6_dof(path):\n",
    "    return pd.read_csv(path, sep='  ', header=None, \n",
    "            engine='python', names=['Rotation x', 'Rotation y', 'Rotation z','Translation x', 'Translation y', 'Translation z'])\n",
    "\n",
    "mot_params = load_mot_params_fsl_6_dof(op.join(func_preproc_path, 'tfMRI_MOTOR_moco.par'))\n",
    "\n"
   ]
  },
  {
   "cell_type": "code",
   "execution_count": null,
   "id": "8859dfc2-baf4-4c8b-b1ca-28539e16f9dd",
   "metadata": {},
   "outputs": [],
   "source": [
    "import matplotlib.pyplot as plt\n",
    "def compute_FD_power(mot_params):\n",
    "    framewise_diff = mot_params.diff().iloc[1:]\n",
    "\n",
    "    rot_params = framewise_diff[['Rotation x', 'Rotation y', 'Rotation z']]\n",
    "    # Estimating displacement on a 50mm radius sphere\n",
    "    # To know this one, we can remember the definition of the radian!\n",
    "    # Indeed, let the radian be theta, the arc length be s and the radius be r.\n",
    "    # Then theta = s / r\n",
    "    # We want to determine here s, for a sphere of 50mm radius and knowing theta. Easy enough!\n",
    "    \n",
    "    # Another way to think about it is through the line integral along the circle.\n",
    "    # Integrating from 0 to theta with radius 50 will give you, unsurprisingly, r0 theta.\n",
    "    converted_rots = rot_params*50\n",
    "    trans_params = framewise_diff[['Translation x', 'Translation y', 'Translation z']]\n",
    "    fd = converted_rots.abs().sum(axis=1) + trans_params.abs().sum(axis=1)\n",
    "    return fd\n",
    "\n",
    "fd = compute_FD_power(mot_params).to_numpy()\n",
    "plt.plot(list(range(1, fd.size+1)), fd)\n",
    "plt.xlabel('Volume')\n",
    "plt.ylabel('FD displacement (mm)')\n",
    "#plt.hlines(threshold, 0, 370,colors='black', linestyles='dashed', label='FD threshold')\n",
    "plt.legend()\n",
    "plt.show()"
   ]
  },
  {
   "cell_type": "code",
   "execution_count": null,
   "id": "ec670b8b-9834-447a-8cd0-77aaa47da344",
   "metadata": {},
   "outputs": [],
   "source": [
    "coregister_path=op.join(func_preproc_path, 'tfMRI_MOTOR_coregistered')\n",
    "white_matter_segmentation=op.join(subject_preproc_root,  'T1w','T1w_fasted_pve_2.nii.gz')\n",
    "use_single_vol= True\n",
    "if use_single_vol:\n",
    "\n",
    "    subprocess.run(['epi_reg','--epi={}'.format(reference_path), '--t1={}'.format(anat_path), '--t1brain={}'.format(betted_brain_path), '--out={}'.format(coregister_path),'--wmseg={}'.format(white_matter_segmentation)])\n",
    "else:\n",
    "    subprocess.run(['epi_reg','--epi={}'.format(motion_corrected_path), '--t1={}'.format(anat_path), '--t1brain={}'.format(betted_brain_path), '--out={}'.format(coregister_path),'--wmseg={}'.format(white_matter_segmentation)])"
   ]
  },
  {
   "cell_type": "code",
   "execution_count": null,
   "id": "ac064948-5d68-4c3e-8208-6b8d345356fc",
   "metadata": {},
   "outputs": [],
   "source": [
    "fsleyesDisplay.resetOverlays()\n",
    "fsleyesDisplay.load(coregister_path)\n",
    "fsleyesDisplay.load(anat_path)"
   ]
  },
  {
   "cell_type": "code",
   "execution_count": null,
   "id": "54d00685-4160-451f-aa0e-37b13ae8e8a7",
   "metadata": {},
   "outputs": [],
   "source": [
    "# g\n",
    "FMWH=4\n",
    "\n",
    "cmd = 'fslmaths {} -s {} {}_smoothed-4mm'.format(motion_corrected_path, FMWH/2.3548, motion_corrected_path)\n",
    "subprocess.run(['fslmaths',motion_corrected_path, '-s', str(FMWH/2.3548), '{}_smoothed-4mm'.format(motion_corrected_path)])"
   ]
  },
  {
   "cell_type": "code",
   "execution_count": null,
   "id": "3a087eaa-5b68-4ae4-b087-4bc46dffdc79",
   "metadata": {
    "scrolled": true
   },
   "outputs": [],
   "source": [
    "fsleyesDisplay.resetOverlays()\n",
    "fsleyesDisplay.load(op.join(func_preproc_path, 'tfMRI_MOTOR_moco_smoothed-4mm')) # check error"
   ]
  }
 ],
 "metadata": {
  "kernelspec": {
   "display_name": "Python 3 (ipykernel)",
   "language": "python",
   "name": "python3"
  },
  "language_info": {
   "codemirror_mode": {
    "name": "ipython",
    "version": 3
   },
   "file_extension": ".py",
   "mimetype": "text/x-python",
   "name": "python",
   "nbconvert_exporter": "python",
   "pygments_lexer": "ipython3",
   "version": "3.11.6"
  }
 },
 "nbformat": 4,
 "nbformat_minor": 5
}
