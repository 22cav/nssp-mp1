{
 "cells": [
  {
   "cell_type": "markdown",
   "id": "f1d2c217-370d-4dd7-8c8a-e9fdaec24767",
   "metadata": {},
   "source": [
    "# Principal component analysis"
   ]
  },
  {
   "cell_type": "markdown",
   "id": "1ad9802d-69af-48fb-99ce-2d09e9801c0d",
   "metadata": {},
   "source": [
    "## Import libraries"
   ]
  },
  {
   "cell_type": "code",
   "execution_count": 1,
   "id": "b01c4e3a-35d2-4793-97f0-db4293e3fdf9",
   "metadata": {},
   "outputs": [],
   "source": [
    "import os\n",
    "import os.path as op\n",
    "import numpy as np\n",
    "import nibabel as nib\n",
    "import matplotlib.pyplot as plt\n",
    "from nilearn.plotting import plot_stat_map, show\n",
    "from nilearn.image import mean_img\n",
    "from sklearn.decomposition import PCA"
   ]
  },
  {
   "cell_type": "markdown",
   "id": "ed94a840-01a1-42da-9e2d-b2189fae532e",
   "metadata": {},
   "source": [
    "## Load and prepare data"
   ]
  },
  {
   "cell_type": "code",
   "execution_count": 2,
   "id": "4f224b30-9ddc-4375-8f45-6796d8d756b4",
   "metadata": {},
   "outputs": [
    {
     "name": "stdout",
     "output_type": "stream",
     "text": [
      "File LR loaded! Data shape: (91, 109, 91, 284)\n",
      "File RL loaded! Data shape: (91, 109, 91, 284)\n"
     ]
    }
   ],
   "source": [
    "TR = 0.72\n",
    "fmri_LR_img_path = \"dataset/subject101410/fMRI/tfMRI_MOTOR_LR/tfMRI_MOTOR_LR.nii\"\n",
    "fmri_RL_img_path = \"dataset/subject101410/fMRI/tfMRI_MOTOR_RL/tfMRI_MOTOR_RL.nii\"\n",
    "\n",
    "fmri_LR_img = nib.load(fmri_LR_img_path)\n",
    "fmri_RL_img = nib.load(fmri_RL_img_path)\n",
    "\n",
    "affine_LR = fmri_LR_img.affine\n",
    "affine_RL = fmri_RL_img.affine\n",
    "\n",
    "fmri_LR_img = fmri_LR_img.get_fdata()\n",
    "fmri_RL_img = fmri_RL_img.get_fdata()\n",
    "\n",
    "print(f\"File LR loaded! Data shape: {fmri_LR_img.shape}\")\n",
    "print(f\"File RL loaded! Data shape: {fmri_RL_img.shape}\")"
   ]
  },
  {
   "cell_type": "markdown",
   "id": "9627251c-1881-4669-8478-d0d1ccb85b22",
   "metadata": {},
   "source": [
    "We get the volume dimensions and number of timepoints with vol_shape and n_vols"
   ]
  },
  {
   "cell_type": "code",
   "execution_count": 3,
   "id": "5c32c2df-4b54-47e4-b58a-f96a51e23d8a",
   "metadata": {},
   "outputs": [],
   "source": [
    "vol_shape_LR = fmri_LR_img.shape[:-1]\n",
    "n_vols_LR = fmri_LR_img.shape[-1]\n",
    "\n",
    "vol_shape_RL = fmri_RL_img.shape[:-1]\n",
    "n_vols_RL = fmri_LR_img.shape[-1]"
   ]
  },
  {
   "cell_type": "markdown",
   "id": "6c1bb06b-4d30-47ee-a5e0-79c615745e44",
   "metadata": {},
   "source": [
    "We remove the useless voxels (background), then flatten the volume into a vector"
   ]
  },
  {
   "cell_type": "code",
   "execution_count": null,
   "id": "bd10d448-632d-46d1-9228-576440370360",
   "metadata": {},
   "outputs": [],
   "source": [
    "slice_non_background_LR = fmri_LR_img[:,:,:,0] != 0\n",
    "samples_LR = fmri_LR_img[slice_non_background_LR]\n",
    "\n",
    "slice_non_background_RL = fmri_RL_img[:,:,:,0] != 0\n",
    "samples_RL = fmri_RL_img[slice_non_background_RL]"
   ]
  },
  {
   "cell_type": "markdown",
   "id": "e77ba0fc-75f8-42e3-99e5-ecafa736890c",
   "metadata": {},
   "source": [
    "Now, we remove the spatial mean"
   ]
  },
  {
   "cell_type": "code",
   "execution_count": null,
   "id": "4acbdfd1-6c56-445b-abd5-e62290970468",
   "metadata": {},
   "outputs": [],
   "source": [
    "spatial_means_LR = np.mean(samples_LR, axis=1)\n",
    "spatial_means_RL = np.mean(samples_RL, axis=1)\n",
    "\n",
    "row_means_LR = np.outer(spatial_means_LR, np.ones(n_vols_LR))\n",
    "row_means_RL = np.outer(spatial_means_RL, np.ones(n_vols_RL))\n",
    "\n",
    "X_LR = samples_LR - row_means_LR\n",
    "X_RL = samples_RL - row_means_RL"
   ]
  },
  {
   "cell_type": "markdown",
   "id": "70c00af5-d191-494e-8000-5ae256e0e94b",
   "metadata": {},
   "source": [
    "## 1. PCA on one volume as one sample"
   ]
  },
  {
   "cell_type": "code",
   "execution_count": null,
   "id": "2190bbce-9427-417b-9206-e192b6ab18b1",
   "metadata": {},
   "outputs": [],
   "source": [
    "nb_components = 10\n",
    "\n",
    "pca_LR = PCA(n_components=nb_components)\n",
    "pca_LR.fit(X_LR.T) \n",
    "\n",
    "pca_RL = PCA(n_components=nb_components)\n",
    "pca_RL.fit(X_RL.T) "
   ]
  },
  {
   "cell_type": "markdown",
   "id": "593aa278-03e6-412a-b5d4-4608393c1b21",
   "metadata": {},
   "source": [
    "## 2. Selection of components of our choice"
   ]
  },
  {
   "cell_type": "code",
   "execution_count": null,
   "id": "d6efd6c5-00d7-4121-82b1-b0ebf2ccab58",
   "metadata": {},
   "outputs": [],
   "source": [
    "fig, ax = plt.subplots(1, 2, figsize=(14,5))\n",
    "\n",
    "ratios_LR = pca_LR.explained_variance_ratio_\n",
    "cumulative_ratios_LR = np.cumsum(pca_LR.explained_variance_ratio_)\n",
    "nb_clusters = 3\n",
    "\n",
    "ax[0].plot(np.arange(1, len(ratios_LR)+1), ratios_LR, label='explained variance ratios LR', c='k')\n",
    "ax[0].scatter([nb_clusters], [ratios[nb_clusters-1]], [150], marker='x', color='r', label='cutoff')\n",
    "ax[1].plot(np.arange(1, len(cumulative_ratios_LR)+1), cumulative_ratios_LR, label='cumulative explained variance LR', c='k')\n",
    "ax[1].hlines(y=cumulative_ratios[nb_clusters-1], xmin=0, xmax=len(ratios)-1, linestyle='--', color='r', label='cutoff')\n",
    "\n",
    "for k in range(2):\n",
    "    ax[k].set_xlabel('Components #', size=15)\n",
    "    ax[k].legend(prop={'size':15})\n",
    "    ax[k].tick_params(axis='both', which='major', labelsize=15)\n",
    "\n",
    "fig, ax = plt.subplots(1, 2, figsize=(14,5))\n",
    "\n",
    "ratios_RL = pca_RL.explained_variance_ratio_\n",
    "cumulative_ratios_RL = np.cumsum(pca_RL.explained_variance_ratio_)\n",
    "nb_clusters = 3\n",
    "\n",
    "ax[0].plot(np.arange(1, len(ratios_RL)+1), ratios_RL, label='explained variance ratios RL', c='k')\n",
    "ax[0].scatter([nb_clusters], [ratios[nb_clusters-1]], [150], marker='x', color='r', label='cutoff')\n",
    "ax[1].plot(np.arange(1, len(cumulative_ratios_RL)+1), cumulative_ratios_RL, label='cumulative explained variance RL', c='k')\n",
    "ax[1].hlines(y=cumulative_ratios[nb_clusters-1], xmin=0, xmax=len(ratios)-1, linestyle='--', color='r', label='cutoff')\n",
    "\n",
    "for k in range(2):\n",
    "    ax[k].set_xlabel('Components #', size=15)\n",
    "    ax[k].legend(prop={'size':15})\n",
    "    ax[k].tick_params(axis='both', which='major', labelsize=15)"
   ]
  },
  {
   "cell_type": "markdown",
   "id": "e11a9e24-6c56-40de-87e7-722976b500bf",
   "metadata": {},
   "source": [
    "We recover the spatial domain"
   ]
  },
  {
   "cell_type": "code",
   "execution_count": null,
   "id": "5c54a26e-9bf1-4239-a119-23e0002ba13d",
   "metadata": {},
   "outputs": [],
   "source": [
    "pca_clusters_LR = [] \n",
    "for cluster_idx in range(nb_clusters):\n",
    "    pca_component_LR = np.zeros(vol_shape_LR)\n",
    "    pca_component_LR[slice_non_background_LR] = pca_LR.components_[cluster_idx]\n",
    "    pca_clusters_LR.append(pca_component_LR)\n",
    "\n",
    "pca_clusters_RL = [] \n",
    "for cluster_idx in range(nb_clusters):\n",
    "    pca_component_RL = np.zeros(vol_shape_RL)\n",
    "    pca_component_RL[slice_non_background_RL] = pca_RL.components_[cluster_idx]\n",
    "    pca_clusters_RL.append(pca_component_RL)\n",
    "\n",
    "from nilearn.plotting import plot_stat_map\n",
    "from nilearn.image import mean_img\n",
    "mean_img_ = mean_img(img)\n",
    "visual_idx = 0\n",
    "plot_stat_map(nib.Nifti1Image(pca_clusters[visual_idx], affine), bg_img=mean_img_, threshold=0,\n",
    "               cut_coords=[0,0,0], black_bg=True,\n",
    "              title=f'PCA Cluster {visual_idx}')\n",
    "\n",
    "plt.show()"
   ]
  },
  {
   "cell_type": "markdown",
   "id": "120a57c9-4033-46ed-9b15-a02e7449e488",
   "metadata": {},
   "source": [
    "## Here we are only visualizing the first component, change it by selecting the right visual_idx"
   ]
  },
  {
   "cell_type": "markdown",
   "id": "a477b4b2-f066-4184-ba2e-8405a7f58e0b",
   "metadata": {},
   "source": [
    "Visualize the results"
   ]
  },
  {
   "cell_type": "code",
   "execution_count": null,
   "id": "ebcedeef-1143-49df-a5de-24d7f7d024f0",
   "metadata": {},
   "outputs": [],
   "source": [
    "mean_img_LR = mean_img(fmri_LR_img)\n",
    "visual_idx = 0\n",
    "plot_stat_map(nib.Nifti1Image(pca_clusters_LR[visual_idx], affine_LR), bg_img=mean_img_, threshold=0,\n",
    "               cut_coords=[0,0,0], black_bg=True,1\n",
    "              title=f'PCA Cluster {visual_idx}')\n",
    "\n",
    "plt.show()\n",
    "\n",
    "mean_img_RL = mean_img(fmri_RL_img)\n",
    "plot_stat_map(nib.Nifti1Image(pca_clusters_RL[visual_idx], affine_RL), bg_img=mean_img_, threshold=0,\n",
    "               cut_coords=[0,0,0], black_bg=True,\n",
    "              title=f'PCA Cluster {visual_idx}')\n",
    "\n",
    "plt.show()"
   ]
  },
  {
   "cell_type": "markdown",
   "id": "1029f47d-c05c-40ab-89db-ad80ec781be8",
   "metadata": {},
   "source": [
    "## 3. Compute pairwise similarity"
   ]
  },
  {
   "cell_type": "markdown",
   "id": "d2c8bd65-b787-4bbe-aa56-0a901036bd17",
   "metadata": {},
   "source": [
    "We compute the cross-correlation matrix for the first 5 components"
   ]
  },
  {
   "cell_type": "code",
   "execution_count": null,
   "id": "f984a483-c1df-46bd-b472-70474c6be495",
   "metadata": {},
   "outputs": [],
   "source": [
    "pca_clusters_LR = pca_clusters_LR[:5]\n",
    "pca_clusters_RL = pca_clusters_RL[:5]\n",
    "\n",
    "R_LR = np.dot(pca_clusters_LR, pca_clusters_LR.T)\n",
    "R_RL = np.dot(pca_clusters_RL, pca_clusters_RL.T)\n",
    "\n",
    "plt.figure(figsize=(6, 5))\n",
    "sns.heatmap(R_LR, annot=True, cmap='coolwarm', center=0, square=True)\n",
    "plt.title(\"Correlation Matrix LR\")\n",
    "plt.show()\n",
    "\n",
    "plt.figure(figsize=(6, 5))\n",
    "sns.heatmap(R_RL, annot=True, cmap='coolwarm', center=0, square=True)\n",
    "plt.title(\"Correlation Matrix RL\")\n",
    "plt.show()"
   ]
  }
 ],
 "metadata": {
  "kernelspec": {
   "display_name": "Python 3 (ipykernel)",
   "language": "python",
   "name": "python3"
  },
  "language_info": {
   "codemirror_mode": {
    "name": "ipython",
    "version": 3
   },
   "file_extension": ".py",
   "mimetype": "text/x-python",
   "name": "python",
   "nbconvert_exporter": "python",
   "pygments_lexer": "ipython3",
   "version": "3.11.6"
  }
 },
 "nbformat": 4,
 "nbformat_minor": 5
}
